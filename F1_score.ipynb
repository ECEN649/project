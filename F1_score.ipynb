{
 "cells": [
  {
   "cell_type": "code",
   "execution_count": 1,
   "id": "19517a78",
   "metadata": {},
   "outputs": [
    {
     "name": "stderr",
     "output_type": "stream",
     "text": [
      "100%|██████████████████████████████████████████████████████████████████████████| 1866/1866 [00:00<00:00, 621896.80it/s]\n",
      "100%|████████████████████████████████████████████████████████████████████████████| 933/933 [00:00<00:00, 310923.70it/s]\n"
     ]
    }
   ],
   "source": [
    "from os import path, makedirs, listdir\n",
    "from tqdm import tqdm\n",
    "from PIL import Image\n",
    "import numpy as np\n",
    "\n",
    "\n",
    "gt_dir = 'test/targets/'\n",
    "p1_dir = 'test/se_bce/'\n",
    "#p2_dir = 'test/2/'\n",
    "\n",
    "gt_images = []\n",
    "p1_images = []\n",
    "p2_images = []\n",
    "for f in tqdm(sorted(listdir(gt_dir))):\n",
    "    if '_pre_' in f:\n",
    "        fn = path.join(gt_dir, f)\n",
    "        #spect= Image.open(fn)\n",
    "        #a = np.array(spect)\n",
    "        #b = np.ones(a.shape)*0.5\n",
    "        #a = np.greater(a, b)\n",
    "        #a = a*1.0\n",
    "        gt_images.append(fn)\n",
    "        \n",
    "        #print(fn)\n",
    "for f in tqdm(sorted(listdir(p1_dir))):\n",
    "    fn = path.join(p1_dir, f)\n",
    "    #spect= Image.open(fn)\n",
    "    #a = np.array(spect)/255\n",
    "    #b = np.ones(a.shape)*0.5\n",
    "    #a = np.greater(a, b)\n",
    "    #a = a*1.0\n",
    "    #print(fn)\n",
    "    p1_images.append(fn)\n",
    "    "
   ]
  },
  {
   "cell_type": "code",
   "execution_count": 2,
   "id": "78c9ce20",
   "metadata": {
    "scrolled": true
   },
   "outputs": [
    {
     "name": "stdout",
     "output_type": "stream",
     "text": [
      "0.7847031011142166\n"
     ]
    }
   ],
   "source": [
    "def f1(img1_list, img2_list):\n",
    "    \n",
    "    ff = 0.0\n",
    "    for i in range(len(img1_list)):\n",
    "        #print(i)\n",
    "        spect = Image.open(img1_list[i])\n",
    "        a = np.array(spect)/255\n",
    "        b = np.ones(a.shape)*0.5\n",
    "        a = np.greater(a, b)\n",
    "        img1 = a*1.0\n",
    "        \n",
    "        spect= Image.open(img2_list[i])\n",
    "        a = np.array(spect)\n",
    "        b = np.ones(a.shape)*0.5\n",
    "        a = np.greater(a, b)\n",
    "        img2 = a*1.0\n",
    "        \n",
    "        \n",
    "        pii = np.logical_and(img1, img2)*1.0\n",
    "        if np.sum(img2) != 0:\n",
    "            p = np.sum(pii)/np.sum(img2)\n",
    "        if np.sum(img1) != 0:\n",
    "            r = np.sum(pii)/np.sum(img1)\n",
    "        if (p+r) != 0:\n",
    "            f1 = 2*p*r/(p+r)\n",
    "            ff += f1\n",
    "\n",
    "    return ff/len(img1_list)\n",
    "\n",
    "result = f1(p1_images, gt_images)\n",
    "#result = f1(p2_images, gt_images)\n",
    "print(result)"
   ]
  },
  {
   "cell_type": "code",
   "execution_count": 3,
   "id": "ab343780",
   "metadata": {},
   "outputs": [
    {
     "name": "stdout",
     "output_type": "stream",
     "text": [
      "nan\n"
     ]
    }
   ],
   "source": [
    "SENet(dice+focal) 0.7954958762447119\n",
    "SENet(dice) 0.7910993717140291\n",
    "SENet(jaccard) 0.7911809657528919\n",
    "SENet(bce) 0.7847821906181485\n",
    "SENet(Lovasz loss) 0.7802057116533999\n",
    "\n",
    "resnet(dice+focal) 0.7916854744075273\n",
    "resnet(dice) 0.7807016015540801\n",
    "resnet(jaccard) 0.7838793450421427\n",
    "resnet(bce) 0.7824294447595068\n",
    "resnet(Lovasz loss) 0.7847821906181485"
   ]
  },
  {
   "cell_type": "code",
   "execution_count": null,
   "id": "62d097a5",
   "metadata": {},
   "outputs": [],
   "source": []
  }
 ],
 "metadata": {
  "kernelspec": {
   "display_name": "Python [conda env:py36]",
   "language": "python",
   "name": "conda-env-py36-py"
  },
  "language_info": {
   "codemirror_mode": {
    "name": "ipython",
    "version": 3
   },
   "file_extension": ".py",
   "mimetype": "text/x-python",
   "name": "python",
   "nbconvert_exporter": "python",
   "pygments_lexer": "ipython3",
   "version": "3.6.13"
  }
 },
 "nbformat": 4,
 "nbformat_minor": 5
}
